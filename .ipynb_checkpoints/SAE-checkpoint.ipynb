{
 "cells": [
  {
   "cell_type": "code",
   "execution_count": 13,
   "id": "17582f70",
   "metadata": {},
   "outputs": [],
   "source": []
  },
  {
   "cell_type": "markdown",
   "id": "72a04074",
   "metadata": {},
   "source": [
    "# Implémentation\n",
    "Nous allons définir la classe Maze à l’aide des attributs :\n",
    "\n",
    "- height, le nombre de lignes (int) de la grille du labyrinthe (autrement dit, la hauteur, en nombre de cellules),\n",
    "- width, le nombre de colonnes (int) de la grille du labyrinthe (autrement dit, la hauteur, en nombre de cellules),\n",
    "- neighbors : un dictionnaire (dict) qui associe à chaque cellule, un set contenant ses voisines.\n",
    "Voici donc la définition sommaire de la classe Maze, pour laquelle nous vous fournissons, un constructeur par défaut, une méthode d’affichage (en ASCII), et une méthode qui résume les infos du labyrinthe :"
   ]
  },
  {
   "cell_type": "code",
   "execution_count": 15,
   "id": "01ca0c20",
   "metadata": {},
   "outputs": [],
   "source": [
    "class Maze:\n",
    "    \"\"\"\n",
    "    Classe Labyrinthe\n",
    "    Représentation sous forme de graphe non-orienté\n",
    "    dont chaque sommet est une cellule (un tuple (l,c))\n",
    "    et dont la structure est représentée par un dictionnaire\n",
    "      - clés : sommets\n",
    "      - valeurs : ensemble des sommets voisins accessibles\n",
    "    \"\"\"\n",
    "    def __init__(self, height, width, empty):\n",
    "        \"\"\"\n",
    "        Constructeur d'un labyrinthe de height cellules de haut \n",
    "        et de width cellules de large \n",
    "        Les voisinages sont initialisés à des ensembles vides\n",
    "        Remarque : dans le labyrinthe créé, chaque cellule est complètement emmurée\n",
    "        \"\"\"\n",
    "        self.height    = height\n",
    "        self.width     = width\n",
    "        self.neighbors = dict()\n",
    "        if empty:\n",
    "            for i in range(height):\n",
    "                for j in range(width):\n",
    "                    coord = []\n",
    "                    if i-1 >= 0:\n",
    "                        coord.append((i-1,j))\n",
    "                    if j-1 >= 0:\n",
    "                        coord.append((i,j-1))\n",
    "                    if j+1 < width:\n",
    "                        coord.append((i,j+1))\n",
    "                    if i+1 < height:\n",
    "                        coord.append((i+1,j))\n",
    "                    self.neighbors[(i,j)] = (set(coord))\n",
    "        else :\n",
    "            self.neighbors = {(i,j): set() for i in range(height) for j in range (width)}\n",
    "            \n",
    "\n",
    "    def info(self):\n",
    "        \"\"\"\n",
    "        **NE PAS MODIFIER CETTE MÉTHODE**\n",
    "        Affichage des attributs d'un objet 'Maze' (fonction utile pour deboguer)\n",
    "        Retour:\n",
    "            chaîne (string): description textuelle des attributs de l'objet\n",
    "        \"\"\"\n",
    "        txt = \"**Informations sur le labyrinthe**\\n\"\n",
    "        txt += f\"- Dimensions de la grille : {self.height} x {self.width}\\n\"\n",
    "        txt += \"- Voisinages :\\n\"\n",
    "        txt += str(self.neighbors)+\"\\n\"\n",
    "        valid = True\n",
    "        for c1 in {(i, j) for i in range(self.height) for j in range(self.width)}:\n",
    "            for c2 in self.neighbors[c1]:\n",
    "                if c1 not in self.neighbors[c2]:\n",
    "                    valid = False\n",
    "                    break\n",
    "            else:\n",
    "                continue\n",
    "            break\n",
    "        txt += \"- Structure cohérente\\n\" if valid else f\"- Structure incohérente : {c1} X {c2}\\n\"\n",
    "        return txt\n",
    "\n",
    "    def __str__(self):\n",
    "        \"\"\"\n",
    "        Représentation textuelle d'un objet Maze (en utilisant des caractères ascii)\n",
    "        Retour:\n",
    "             chaîne (str) : chaîne de caractères représentant le labyrinthe\n",
    "        \"\"\"\n",
    "        txt = \"\"\n",
    "        # Première ligne\n",
    "        txt += \"┏\"\n",
    "        for j in range(self.width-1):\n",
    "            txt += \"━━━┳\"\n",
    "        txt += \"━━━┓\\n\"\n",
    "        txt += \"┃\"\n",
    "        for j in range(self.width-1):\n",
    "            txt += \"   ┃\" if (0,j+1) not in self.neighbors[(0,j)] else \"    \"\n",
    "        txt += \"   ┃\\n\"\n",
    "        # Lignes normales\n",
    "        for i in range(self.height-1):\n",
    "            txt += \"┣\"\n",
    "            for j in range(self.width-1):\n",
    "                txt += \"━━━╋\" if (i+1,j) not in self.neighbors[(i,j)] else \"   ╋\"\n",
    "            txt += \"━━━┫\\n\" if (i+1,self.width-1) not in self.neighbors[(i,self.width-1)] else \"   ┫\\n\"\n",
    "            txt += \"┃\"\n",
    "            for j in range(self.width):\n",
    "                txt += \"   ┃\" if (i+1,j+1) not in self.neighbors[(i+1,j)] else \"    \"\n",
    "            txt += \"\\n\"\n",
    "        # Bas du tableau\n",
    "        txt += \"┗\"\n",
    "        for i in range(self.width-1):\n",
    "            txt += \"━━━┻\"\n",
    "        txt += \"━━━┛\\n\"\n",
    "        \n",
    "\n",
    "        return txt\n",
    "    \n",
    "    def add_wall(self, c1, c2):\n",
    "        # Facultatif : on teste si les sommets sont bien dans le labyrinthe\n",
    "        assert 0 <= c1[0] < self.height and \\\n",
    "            0 <= c1[1] < self.width and \\\n",
    "            0 <= c2[0] < self.height and \\\n",
    "            0 <= c2[1] < self.width, \\\n",
    "            f\"Erreur lors de l'ajout d'un mur entre {c1} et {c2} : les coordonnées de sont pas compatibles avec les dimensions du labyrinthe\"\n",
    "        # Ajout du mur\n",
    "        if c2 in self.neighbors[c1]:      # Si c2 est dans les voisines de c1\n",
    "            self.neighbors[c1].remove(c2) # on le retire\n",
    "        if c1 in self.neighbors[c2]:      # Si c3 est dans les voisines de c2\n",
    "            self.neighbors[c2].remove(c1) # on le retire\n",
    "        \n",
    "    \n",
    "    def remove_wall(self,c1,c2):\n",
    "        assert 0 <= c1[0] < self.height and \\\n",
    "            0 <= c1[1] < self.width and \\\n",
    "            0 <= c2[0] < self.height and \\\n",
    "            0 <= c2[1] < self.width, \\\n",
    "            f\"Erreur lors de la suppression d'un mur entre {c1} et {c2} : les coordonnées de sont pas compatibles avec les dimensions du labyrinthe\"\n",
    "        # Suppression du mur\n",
    "        if c2 not in self.neighbors[c1]:      # Si c2 n'est pas dans les voisines de c1\n",
    "            self.neighbors[c1].add(c2) # on l'ajoute\n",
    "        if c1 not in self.neighbors[c2]:      # Si c3 n'est pas dans les voisines de c2\n",
    "            self.neighbors[c2].add(c1) # on l'ajoute\n",
    "            \n",
    "    def get_walls(self):\n",
    "        walls = []\n",
    "        for i in range(self.height-1):#Parcourt les lignes\n",
    "            for j in range(self.width-1):#Parcourt les colonnes\n",
    "                if i - 1 > 0 and i - 1 < self.height:#Si la cellule du dessus est dans les dimensions du labyrinthe\n",
    "                    if (i - 1,j) not in self.neighbors[(i,j)]:#Si la cellule n'est pas une voisine \n",
    "                        walls.append([(i,j),(i-1,j)]) #Ajouter à la liste des murs\n",
    "                if i + 1 > 0 and i + 1 < self.height: #Si la cellule du dessous est dans les dimensions du labyrinthe\n",
    "                    if (i + 1,j) not in self.neighbors[(i,j)]:#Si la cellule n'est pas une voisine \n",
    "                        walls.append([(i,j),(i+1,j)])#Ajouter à la liste des murs\n",
    "                if j - 1 > 0 and j - 1 < self.width: #Si la cellule à gauche est dans les dimensions du labyrinthe\n",
    "                    if (i,j-1) not in self.neighbors[(i,j)]:#Si la cellule n'est pas une voisine \n",
    "                        walls.append([(i,j),(i,j-1)])#Ajouter à la liste des murs\n",
    "                if j + 1 > 0 and j + 1 < self.width:#Si la cellule à droite est dans les dimensions du labyrinthe\n",
    "                    if (i,j+1) not in self.neighbors[(i,j)]:#Si la cellule n'est pas une voisine \n",
    "                        walls.append([(i,j),(i,j+1)])#Ajouter à la liste des murs\n",
    "        return walls #Liste des murs sous forme d'un tuple (cellule1,cellule2) des cellules qu'il sépare '''\n",
    "    \n",
    "    \n",
    "                      \n",
    "        "
   ]
  },
  {
   "cell_type": "markdown",
   "id": "309f5bf3",
   "metadata": {},
   "source": [
    "### Ajout de l'argument  ``empty`` :\n",
    "#### Test :"
   ]
  },
  {
   "cell_type": "code",
   "execution_count": 19,
   "id": "7630e234",
   "metadata": {},
   "outputs": [
    {
     "name": "stdout",
     "output_type": "stream",
     "text": [
      "┏━━━┳━━━┳━━━┳━━━┓\n",
      "┃   ┃   ┃   ┃   ┃\n",
      "┣━━━╋━━━╋━━━╋━━━┫\n",
      "┃   ┃   ┃   ┃   ┃\n",
      "┣━━━╋━━━╋━━━╋━━━┫\n",
      "┃   ┃   ┃   ┃   ┃\n",
      "┣━━━╋━━━╋━━━╋━━━┫\n",
      "┃   ┃   ┃   ┃   ┃\n",
      "┗━━━┻━━━┻━━━┻━━━┛\n",
      "\n",
      "┏━━━┳━━━┳━━━┳━━━┓\n",
      "┃               ┃\n",
      "┣   ╋   ╋   ╋   ┫\n",
      "┃               ┃\n",
      "┣   ╋   ╋   ╋   ┫\n",
      "┃               ┃\n",
      "┣   ╋   ╋   ╋   ┫\n",
      "┃               ┃\n",
      "┗━━━┻━━━┻━━━┻━━━┛\n",
      "\n"
     ]
    }
   ],
   "source": [
    "laby = Maze(4,4,empty = False)\n",
    "print(laby)\n",
    "laby = Maze(4,4,empty = True)\n",
    "print(laby)"
   ]
  },
  {
   "cell_type": "markdown",
   "id": "2a56ace3",
   "metadata": {},
   "source": [
    "### Ajout de la méthode ``add_wall`` : OK\n",
    "#### Test :"
   ]
  },
  {
   "cell_type": "code",
   "execution_count": 21,
   "id": "7653d16e",
   "metadata": {},
   "outputs": [
    {
     "name": "stdout",
     "output_type": "stream",
     "text": [
      "┏━━━┳━━━┳━━━┳━━━┳━━━┓\n",
      "┃                   ┃\n",
      "┣   ╋   ╋   ╋   ╋   ┫\n",
      "┃                   ┃\n",
      "┣   ╋   ╋   ╋   ╋   ┫\n",
      "┃                   ┃\n",
      "┣   ╋   ╋   ╋   ╋   ┫\n",
      "┃                   ┃\n",
      "┣   ╋   ╋   ╋   ╋   ┫\n",
      "┃                   ┃\n",
      "┗━━━┻━━━┻━━━┻━━━┻━━━┛\n",
      "\n",
      "┏━━━┳━━━┳━━━┳━━━┳━━━┓\n",
      "┃   ┃               ┃\n",
      "┣   ╋   ╋   ╋   ╋   ┫\n",
      "┃                   ┃\n",
      "┣   ╋   ╋   ╋   ╋   ┫\n",
      "┃                   ┃\n",
      "┣   ╋   ╋   ╋   ╋   ┫\n",
      "┃                   ┃\n",
      "┣   ╋   ╋   ╋   ╋   ┫\n",
      "┃                   ┃\n",
      "┗━━━┻━━━┻━━━┻━━━┻━━━┛\n",
      "\n"
     ]
    }
   ],
   "source": [
    "laby = Maze(5, 5, empty = True)\n",
    "print(laby)\n",
    "laby.add_wall((0,0), (0,1))\n",
    "print(laby)"
   ]
  },
  {
   "cell_type": "markdown",
   "id": "fb232117",
   "metadata": {},
   "source": [
    "\n",
    "__À faire__\n",
    "Écrire les méthodes d’instance suivantes :\n",
    "\n",
    "- remove_wall(c1, c2) qui supprime un mur entre deux cellules\n",
    "- get_walls() qui retourne la liste de tous les murs sous la forme d’une liste de tuple de cellules\n",
    "- fill() qui ajoute tous les murs possibles dans le labyrinthe\n",
    "- empty() qui supprime tous les murs du labyrinthe\n",
    "- get_contiguous_cells(c) qui retourne la liste des cellules contigües à c dans la grille (sans s’occuper des éventuels murs)\n",
    "- get_reachable_cells(c) qui retourne la liste des cellules accessibles depuis c"
   ]
  },
  {
   "cell_type": "markdown",
   "id": "2c04c157",
   "metadata": {},
   "source": [
    "### Ajout de la méthode d'instance ``remove_wall()``\n",
    "#### Test :"
   ]
  },
  {
   "cell_type": "code",
   "execution_count": 22,
   "id": "2a9a7ff0",
   "metadata": {},
   "outputs": [
    {
     "name": "stdout",
     "output_type": "stream",
     "text": [
      "┏━━━┳━━━┳━━━┳━━━┳━━━┓\n",
      "┃   ┃   ┃   ┃   ┃   ┃\n",
      "┣━━━╋━━━╋━━━╋━━━╋━━━┫\n",
      "┃   ┃   ┃   ┃   ┃   ┃\n",
      "┣━━━╋━━━╋━━━╋━━━╋━━━┫\n",
      "┃   ┃   ┃   ┃   ┃   ┃\n",
      "┣━━━╋━━━╋━━━╋━━━╋━━━┫\n",
      "┃   ┃   ┃   ┃   ┃   ┃\n",
      "┣━━━╋━━━╋━━━╋━━━╋━━━┫\n",
      "┃   ┃   ┃   ┃   ┃   ┃\n",
      "┗━━━┻━━━┻━━━┻━━━┻━━━┛\n",
      "\n",
      "┏━━━┳━━━┳━━━┳━━━┳━━━┓\n",
      "┃       ┃   ┃   ┃   ┃\n",
      "┣━━━╋━━━╋━━━╋━━━╋━━━┫\n",
      "┃   ┃   ┃   ┃   ┃   ┃\n",
      "┣━━━╋━━━╋━━━╋━━━╋━━━┫\n",
      "┃   ┃   ┃   ┃   ┃   ┃\n",
      "┣━━━╋━━━╋━━━╋━━━╋━━━┫\n",
      "┃   ┃   ┃   ┃   ┃   ┃\n",
      "┣━━━╋━━━╋━━━╋━━━╋━━━┫\n",
      "┃   ┃   ┃   ┃   ┃   ┃\n",
      "┗━━━┻━━━┻━━━┻━━━┻━━━┛\n",
      "\n"
     ]
    }
   ],
   "source": [
    "laby = Maze(5, 5, empty = False)\n",
    "print(laby)\n",
    "laby.remove_wall((0, 0), (0, 1))\n",
    "print(laby)"
   ]
  },
  {
   "cell_type": "markdown",
   "id": "c1a4f582",
   "metadata": {},
   "source": [
    "### Ajout de la méthode d'instance ``get_walls()``\n",
    "#### Test :"
   ]
  },
  {
   "cell_type": "code",
   "execution_count": 23,
   "id": "17c3508c",
   "metadata": {},
   "outputs": [
    {
     "name": "stdout",
     "output_type": "stream",
     "text": [
      "┏━━━┳━━━┳━━━┳━━━┓\n",
      "┃   ┃   ┃   ┃   ┃\n",
      "┣━━━╋━━━╋━━━╋━━━┫\n",
      "┃   ┃   ┃   ┃   ┃\n",
      "┣━━━╋━━━╋━━━╋━━━┫\n",
      "┃   ┃   ┃   ┃   ┃\n",
      "┣━━━╋━━━╋━━━╋━━━┫\n",
      "┃   ┃   ┃   ┃   ┃\n",
      "┗━━━┻━━━┻━━━┻━━━┛\n",
      "\n",
      "[[(0, 0), (1, 0)], [(0, 0), (0, 1)], [(0, 1), (1, 1)], [(0, 1), (0, 2)], [(0, 2), (1, 2)], [(0, 2), (0, 1)], [(0, 2), (0, 3)], [(1, 0), (2, 0)], [(1, 0), (1, 1)], [(1, 1), (2, 1)], [(1, 1), (1, 2)], [(1, 2), (2, 2)], [(1, 2), (1, 1)], [(1, 2), (1, 3)], [(2, 0), (1, 0)], [(2, 0), (3, 0)], [(2, 0), (2, 1)], [(2, 1), (1, 1)], [(2, 1), (3, 1)], [(2, 1), (2, 2)], [(2, 2), (1, 2)], [(2, 2), (3, 2)], [(2, 2), (2, 1)], [(2, 2), (2, 3)]]\n",
      "┏━━━┳━━━┳━━━┳━━━┓\n",
      "┃   ┃           ┃\n",
      "┣   ╋   ╋━━━╋   ┫\n",
      "┃   ┃       ┃   ┃\n",
      "┣   ╋━━━╋   ╋   ┫\n",
      "┃           ┃   ┃\n",
      "┣   ╋━━━╋━━━╋   ┫\n",
      "┃           ┃   ┃\n",
      "┗━━━┻━━━┻━━━┻━━━┛\n",
      "\n",
      "[[(0, 0), (0, 1)], [(0, 2), (1, 2)], [(1, 0), (1, 1)], [(1, 1), (2, 1)], [(1, 2), (1, 3)], [(2, 1), (1, 1)], [(2, 1), (3, 1)], [(2, 2), (3, 2)], [(2, 2), (2, 3)]]\n"
     ]
    }
   ],
   "source": [
    "laby = Maze(4, 4, empty = False)\n",
    "print(laby)\n",
    "print(laby.get_walls())\n",
    "laby.neighbors = {\n",
    "    (0, 0): {(1, 0)},\n",
    "    (0, 1): {(0, 2), (1, 1)},\n",
    "    (0, 2): {(0, 1), (0, 3)},\n",
    "    (0, 3): {(0, 2), (1, 3)},\n",
    "    (1, 0): {(2, 0), (0, 0)},\n",
    "    (1, 1): {(0, 1), (1, 2)},\n",
    "    (1, 2): {(1, 1), (2, 2)},\n",
    "    (1, 3): {(2, 3), (0, 3)},\n",
    "    (2, 0): {(1, 0), (2, 1), (3, 0)},\n",
    "    (2, 1): {(2, 0), (2, 2)},\n",
    "    (2, 2): {(1, 2), (2, 1)},\n",
    "    (2, 3): {(3, 3), (1, 3)},\n",
    "    (3, 0): {(3, 1), (2, 0)},\n",
    "    (3, 1): {(3, 2), (3, 0)},\n",
    "    (3, 2): {(3, 1)},\n",
    "    (3, 3): {(2, 3)}\n",
    "}\n",
    "\n",
    "print(laby)\n",
    "print(laby.get_walls())\n"
   ]
  },
  {
   "cell_type": "markdown",
   "id": "33a63efe",
   "metadata": {},
   "source": [
    "### Ajout de la méthode d'instance ``fill()``\n",
    "#### Test :"
   ]
  },
  {
   "cell_type": "code",
   "execution_count": null,
   "id": "a41e4531",
   "metadata": {},
   "outputs": [],
   "source": []
  },
  {
   "cell_type": "markdown",
   "id": "0d8869d3",
   "metadata": {},
   "source": [
    "### Ajout de la méthode d'instance ``empty()``\n",
    "#### Test :"
   ]
  },
  {
   "cell_type": "code",
   "execution_count": null,
   "id": "652289d4",
   "metadata": {},
   "outputs": [],
   "source": []
  },
  {
   "cell_type": "markdown",
   "id": "e3a272d3",
   "metadata": {},
   "source": [
    "### Ajout de la méthode d'instance ``get_contiguous_cells(c)``\n",
    "#### Test :"
   ]
  },
  {
   "cell_type": "code",
   "execution_count": null,
   "id": "e4001ebd",
   "metadata": {},
   "outputs": [],
   "source": []
  },
  {
   "cell_type": "markdown",
   "id": "b5cdf5ae",
   "metadata": {},
   "source": [
    "### Ajout de la méthode d'instance ``get_reachable_cells(c)``\n",
    "#### Test :"
   ]
  },
  {
   "cell_type": "code",
   "execution_count": null,
   "id": "bba8fff9",
   "metadata": {},
   "outputs": [],
   "source": []
  }
 ],
 "metadata": {
  "kernelspec": {
   "display_name": "Python 3 (ipykernel)",
   "language": "python",
   "name": "python3"
  },
  "language_info": {
   "codemirror_mode": {
    "name": "ipython",
    "version": 3
   },
   "file_extension": ".py",
   "mimetype": "text/x-python",
   "name": "python",
   "nbconvert_exporter": "python",
   "pygments_lexer": "ipython3",
   "version": "3.8.10"
  }
 },
 "nbformat": 4,
 "nbformat_minor": 5
}
