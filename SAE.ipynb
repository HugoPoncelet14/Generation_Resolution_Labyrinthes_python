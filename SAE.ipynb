{
 "cells": [
  {
   "cell_type": "code",
   "execution_count": 1,
   "id": "e75dd755",
   "metadata": {},
   "outputs": [],
   "source": [
    "from random import *"
   ]
  },
  {
   "cell_type": "markdown",
   "id": "2b43001d",
   "metadata": {},
   "source": [
    "# Implémentation\n",
    "Nous allons définir la classe Maze à l’aide des attributs :\n",
    "\n",
    "- height, le nombre de lignes (int) de la grille du labyrinthe (autrement dit, la hauteur, en nombre de cellules),\n",
    "- width, le nombre de colonnes (int) de la grille du labyrinthe (autrement dit, la hauteur, en nombre de cellules),\n",
    "- neighbors : un dictionnaire (dict) qui associe à chaque cellule, un set contenant ses voisines.\n",
    "Voici donc la définition sommaire de la classe Maze, pour laquelle nous vous fournissons, un constructeur par défaut, une méthode d’affichage (en ASCII), et une méthode qui résume les infos du labyrinthe :"
   ]
  },
  {
   "cell_type": "code",
   "execution_count": 2,
   "id": "01ca0c20",
   "metadata": {},
   "outputs": [],
   "source": [
    "class Maze:\n",
    "    \"\"\"\n",
    "    Classe Labyrinthe\n",
    "    Représentation sous forme de graphe non-orienté\n",
    "    dont chaque sommet est une cellule (un tuple (l,c))\n",
    "    et dont la structure est représentée par un dictionnaire\n",
    "      - clés : sommets\n",
    "      - valeurs : ensemble des sommets voisins accessibles\n",
    "    \"\"\"\n",
    "    def __init__(self, height, width, empty = False):\n",
    "        \"\"\"\n",
    "        Constructeur d'un labyrinthe de height cellules de haut \n",
    "        et de width cellules de large \n",
    "        Les voisinages sont initialisés à des ensembles vides\n",
    "        Remarque : dans le labyrinthe créé, chaque cellule est complètement emmurée\n",
    "        \"\"\"\n",
    "        self.height    = height\n",
    "        self.width     = width \n",
    "        self.neighbors = dict()\n",
    "        \n",
    "        if empty:\n",
    "            for i in range(height):\n",
    "                for j in range(width):\n",
    "                    coord = []\n",
    "                    if i-1 >= 0:\n",
    "                        coord.append((i-1,j))\n",
    "                    if j-1 >= 0:\n",
    "                        coord.append((i,j-1))\n",
    "                    if j+1 < width:\n",
    "                        coord.append((i,j+1))\n",
    "                    if i+1 < height:\n",
    "                        coord.append((i+1,j))\n",
    "                    self.neighbors[(i,j)] = (set(coord))\n",
    "        else :\n",
    "            self.neighbors = {(i,j): set() for i in range(height) for j in range (width)}\n",
    "            \n",
    "\n",
    "    def info(self):\n",
    "        \"\"\"\n",
    "        **NE PAS MODIFIER CETTE MÉTHODE**\n",
    "        Affichage des attributs d'un objet 'Maze' (fonction utile pour deboguer)\n",
    "        Retour:\n",
    "            chaîne (string): description textuelle des attributs de l'objet\n",
    "        \"\"\"\n",
    "        txt = \"**Informations sur le labyrinthe**\\n\"\n",
    "        txt += f\"- Dimensions de la grille : {self.height} x {self.width}\\n\"\n",
    "        txt += \"- Voisinages :\\n\"\n",
    "        txt += str(self.neighbors)+\"\\n\"\n",
    "        valid = True\n",
    "        for c1 in {(i, j) for i in range(self.height) for j in range(self.width)}:\n",
    "            for c2 in self.neighbors[c1]:\n",
    "                if c1 not in self.neighbors[c2]:\n",
    "                    valid = False\n",
    "                    break\n",
    "            else:\n",
    "                continue\n",
    "            break\n",
    "        txt += \"- Structure cohérente\\n\" if valid else f\"- Structure incohérente : {c1} X {c2}\\n\"\n",
    "        return txt\n",
    "\n",
    "    def __str__(self):\n",
    "        \"\"\"\n",
    "        Représentation textuelle d'un objet Maze (en utilisant des caractères ascii)\n",
    "        Retour:\n",
    "             chaîne (str) : chaîne de caractères représentant le labyrinthe\n",
    "        \"\"\"\n",
    "        txt = \"\"\n",
    "        # Première ligne\n",
    "        txt += \"┏\"\n",
    "        for j in range(self.width-1):\n",
    "            txt += \"━━━┳\"\n",
    "        txt += \"━━━┓\\n\"\n",
    "        txt += \"┃\"\n",
    "        for j in range(self.width-1):\n",
    "            txt += \"   ┃\" if (0,j+1) not in self.neighbors[(0,j)] else \"    \"\n",
    "        txt += \"   ┃\\n\"\n",
    "        # Lignes normales\n",
    "        for i in range(self.height-1):\n",
    "            txt += \"┣\"\n",
    "            for j in range(self.width-1):\n",
    "                txt += \"━━━╋\" if (i+1,j) not in self.neighbors[(i,j)] else \"   ╋\"\n",
    "            txt += \"━━━┫\\n\" if (i+1,self.width-1) not in self.neighbors[(i,self.width-1)] else \"   ┫\\n\"\n",
    "            txt += \"┃\"\n",
    "            for j in range(self.width):\n",
    "                txt += \"   ┃\" if (i+1,j+1) not in self.neighbors[(i+1,j)] else \"    \"\n",
    "            txt += \"\\n\"\n",
    "        # Bas du tableau\n",
    "        txt += \"┗\"\n",
    "        for i in range(self.width-1):\n",
    "            txt += \"━━━┻\"\n",
    "        txt += \"━━━┛\\n\"\n",
    "        \n",
    "\n",
    "        return txt\n",
    "    \n",
    "    '''\n",
    "    Méthode permetant d'ajouter un mur au labyrinthe entre la coordonnée c1 et c2 (supprime c1 des voisins de c2\n",
    "    et c2 des voisins de c1)\n",
    "    '''\n",
    "    def add_wall(self, c1, c2):\n",
    "        # Facultatif : on teste si les sommets sont bien dans le labyrinthe\n",
    "        assert 0 <= c1[0] < self.height and \\\n",
    "            0 <= c1[1] < self.width and \\\n",
    "            0 <= c2[0] < self.height and \\\n",
    "            0 <= c2[1] < self.width, \\\n",
    "            f\"Erreur lors de l'ajout d'un mur entre {c1} et {c2} : les coordonnées de sont pas compatibles avec les dimensions du labyrinthe\"\n",
    "        # Ajout du mur\n",
    "        if c2 in self.neighbors[c1]:      # Si c2 est dans les voisines de c1\n",
    "            self.neighbors[c1].remove(c2) # on le retire\n",
    "        if c1 in self.neighbors[c2]:      # Si c3 est dans les voisines de c2\n",
    "            self.neighbors[c2].remove(c1) # on le retire\n",
    "        \n",
    "    \n",
    "    '''\n",
    "    Méthode permetant de supprimer le mur entre la coordonnée c1 et c2 du labyrinthe (ajoute c1 aux voisins de c2\n",
    "    et c2 aux voisins de c1)\n",
    "    '''\n",
    "    def remove_wall(self,c1,c2):\n",
    "        assert 0 <= c1[0] < self.height and \\\n",
    "            0 <= c1[1] < self.width and \\\n",
    "            0 <= c2[0] < self.height and \\\n",
    "            0 <= c2[1] < self.width, \\\n",
    "            f\"Erreur lors de la suppression d'un mur entre {c1} et {c2} : les coordonnées de sont pas compatibles avec les dimensions du labyrinthe\"\n",
    "        # Suppression du mur\n",
    "        if c2 not in self.neighbors[c1]:      # Si c2 n'est pas dans les voisines de c1\n",
    "            self.neighbors[c1].add(c2) # on l'ajoute\n",
    "        if c1 not in self.neighbors[c2]:      # Si c3 n'est pas dans les voisines de c2\n",
    "            self.neighbors[c2].add(c1) # on l'ajoute\n",
    "    \n",
    "    \n",
    "    '''\n",
    "    Methode retournant l'ensemble des murs du labyrinthe sous forme de liste de liste contenant\n",
    "    les deux coordonnées voisines du mur sous forme de tuple\n",
    "    Retour : Liste de liste contenant les deux coordonnées voisines du mur sous forme de tuple\n",
    "    '''\n",
    "    def get_walls(self):\n",
    "        walls = []\n",
    "        for i in range(self.height-1):#Parcourt les lignes\n",
    "            for j in range(self.width-1):#Parcourt les colonnes\n",
    "                if i - 1 > 0 and i - 1 < self.height:#Si la cellule du dessus est dans les dimensions du labyrinthe\n",
    "                    if (i - 1,j) not in self.neighbors[(i,j)]:#Si la cellule n'est pas une voisine \n",
    "                        walls.append([(i,j),(i-1,j)]) #Ajouter à la liste des murs\n",
    "                if i + 1 > 0 and i + 1 < self.height: #Si la cellule du dessous est dans les dimensions du labyrinthe\n",
    "                    if (i + 1,j) not in self.neighbors[(i,j)]:#Si la cellule n'est pas une voisine \n",
    "                        walls.append([(i,j),(i+1,j)])#Ajouter à la liste des murs\n",
    "                if j - 1 > 0 and j - 1 < self.width: #Si la cellule à gauche est dans les dimensions du labyrinthe\n",
    "                    if (i,j-1) not in self.neighbors[(i,j)]:#Si la cellule n'est pas une voisine \n",
    "                        walls.append([(i,j),(i,j-1)])#Ajouter à la liste des murs\n",
    "                if j + 1 > 0 and j + 1 < self.width:#Si la cellule à droite est dans les dimensions du labyrinthe\n",
    "                    if (i,j+1) not in self.neighbors[(i,j)]:#Si la cellule n'est pas une voisine \n",
    "                        walls.append([(i,j),(i,j+1)])#Ajouter à la liste des murs\n",
    "        return walls #Liste des murs sous forme d'un tuple (cellule1,cellule2) des cellules qu'il sépare '''\n",
    "    \n",
    "    \n",
    "    '''\n",
    "    Méthode transformant le labyrinthe en un labyrinthe plein (Toutes les cellules sont entourés de murs)\n",
    "    Assigne a chaque cellule du labyrinthe un ensemble vide de cellules contigues.\n",
    "\n",
    "    '''\n",
    "    def fill(self):\n",
    "        self.neighbors = {(i,j): set() for i in range(self.height) for j in range (self.width)}\n",
    "    \n",
    "    \n",
    "    '''\n",
    "    Méthode transformant le labyrinthe en un labyrinthe Vide (Toutes les cellules sont entourés d'aucuns murs\n",
    "    (sauf les cellules sur les côtés))\n",
    "    Assigne a chaque cellule du labyrinthe un ensemble contenant les coordonnées des cellules contigues.\n",
    "\n",
    "    '''\n",
    "    def empty(self):\n",
    "        for i in range(self.height):\n",
    "                for j in range(self.width):\n",
    "                    coord = []\n",
    "                    if i-1 >= 0:\n",
    "                        coord.append((i-1,j))\n",
    "                    if j-1 >= 0:\n",
    "                        coord.append((i,j-1))\n",
    "                    if j+1 < self.width:\n",
    "                        coord.append((i,j+1))\n",
    "                    if i+1 < self.height:\n",
    "                        coord.append((i+1,j))\n",
    "                    self.neighbors[(i,j)] = (set(coord))\n",
    "    \n",
    "    \n",
    "    '''\n",
    "    Méthode retournant une liste contenant les cellules voisines (contigues ou non)\n",
    "    de la cellule placé a la coordonnée passée en paramètre\n",
    "    Paramètre:\n",
    "        c = coordonnée de la cellule a tester\n",
    "    Retour:\n",
    "        Liste contenant les cellules voisines de la cellule passée en paramètre\n",
    "    '''\n",
    "    def get_contiguous_cells(self,c):\n",
    "        cells = []\n",
    "        if c[0] - 1 >= 0:#Si la cellule du dessus est dans les dimensions du labyrinthe\n",
    "            cells.append((c[0]-1,c[1]))\n",
    "            \n",
    "        if c[0] + 1 < self.height: #Si la cellule du dessous est dans les dimensions du labyrinthe \n",
    "            cells.append((c[0]+1,c[1]))\n",
    "            \n",
    "        if c[1] - 1 >= 0: #Si la cellule à gauche est dans les dimensions du labyrinthe\n",
    "            cells.append((c[0],c[1]-1))\n",
    "            \n",
    "        if c[1] + 1 < self.width:#Si la cellule à droite est dans les dimensions du labyrinthe \n",
    "            cells.append((c[0],c[1]+1))\n",
    "        return cells\n",
    "    \n",
    "    \n",
    "    '''\n",
    "    Méthode retournant une liste contenant les cellules contigues\n",
    "    de la cellule placée a la coordonnée passée en paramètre\n",
    "    Paramètre:\n",
    "        c = coordonnée de la cellule a tester\n",
    "    Retour:\n",
    "        Liste contenant les cellules contigues de la cellule passée en paramètre\n",
    "    '''\n",
    "    \n",
    "    def get_reachable_cells(self,c):\n",
    "        accessibles = []\n",
    "        voisines = self.get_contiguous_cells(c)\n",
    "        for i in range (len(voisines)):\n",
    "            if voisines[i] in self.neighbors[c]:\n",
    "                accessibles.append(voisines[i])\n",
    "        return accessibles   \n",
    "    \n",
    "    @classmethod\n",
    "    def gen_btree(cls,h,w):\n",
    "        L = cls(h,w,False)\n",
    "        for i in range(h):\n",
    "            for j in range(w):\n",
    "                changement = False\n",
    "                cell_contigues = L.get_contiguous_cells((i,j))\n",
    "                cell_voisines = L.get_reachable_cells((i,j))\n",
    "                w_c1 = False\n",
    "                w_c2 = False\n",
    "                if (i,j+1) in cell_contigues and (i,j+1) not in cell_voisines:\n",
    "                    w_c1 = True\n",
    "                if (i+1,j) in cell_contigues and (i+1,j) not in cell_voisines:\n",
    "                    w_c2 = True\n",
    "                if w_c1 and w_c2 :\n",
    "                    changement = True\n",
    "                    n = randint(0,1)\n",
    "                    if n == 0:\n",
    "                        L.remove_wall((i,j),(i,j+1))\n",
    "                    if n == 1:\n",
    "                        L.remove_wall((i,j),(i+1,j))\n",
    "                if ((w_c1 and w_c2 == False) or (w_c2 and w_c1 == False)) and changement == False:\n",
    "                    if w_c1 :\n",
    "                        L.remove_wall((i,j),(i,j+1))\n",
    "                    if w_c2 :\n",
    "                        L.remove_wall((i,j),(i+1,j))\n",
    "        return L \n",
    "    \n",
    "    @classmethod\n",
    "    def gen_sidewinder(cls,h,w):\n",
    "        L = cls(h,w,False)\n",
    "        for i in range(h-1):\n",
    "            seq = []\n",
    "            for j in range(w-1):\n",
    "                seq.append((i,j))\n",
    "                n_pf = randint(0,1)\n",
    "                if n_pf == 0:\n",
    "                    L.remove_wall((i,j),(i,j+1))\n",
    "                if n_pf == 1:\n",
    "                    n_seq = randint(0,len(seq)-1)\n",
    "                    L.remove_wall((seq[n_seq]),(i+1,seq[n_seq][1]))\n",
    "                    seq = []\n",
    "            seq.append((i,j+1))\n",
    "            n_seq = randint(0,len(seq)-1)\n",
    "            L.remove_wall((seq[n_seq]),(i+1,seq[n_seq][1]))\n",
    "        for l in range(w-1):\n",
    "            L.remove_wall((h-1,l),(h-1,l+1))\n",
    "        return L\n",
    "                    \n",
    "     "
   ]
  },
  {
   "cell_type": "markdown",
   "id": "0cabbd64",
   "metadata": {},
   "source": [
    "# 3) _Implémentation_"
   ]
  },
  {
   "cell_type": "markdown",
   "id": "09c44738",
   "metadata": {},
   "source": [
    "### Ajout de l'argument  ``empty`` :\n",
    "#### Test :"
   ]
  },
  {
   "cell_type": "code",
   "execution_count": 3,
   "id": "7630e234",
   "metadata": {},
   "outputs": [
    {
     "name": "stdout",
     "output_type": "stream",
     "text": [
      "┏━━━┳━━━┳━━━┳━━━┓\n",
      "┃   ┃   ┃   ┃   ┃\n",
      "┣━━━╋━━━╋━━━╋━━━┫\n",
      "┃   ┃   ┃   ┃   ┃\n",
      "┣━━━╋━━━╋━━━╋━━━┫\n",
      "┃   ┃   ┃   ┃   ┃\n",
      "┣━━━╋━━━╋━━━╋━━━┫\n",
      "┃   ┃   ┃   ┃   ┃\n",
      "┗━━━┻━━━┻━━━┻━━━┛\n",
      "\n",
      "┏━━━┳━━━┳━━━┳━━━┓\n",
      "┃               ┃\n",
      "┣   ╋   ╋   ╋   ┫\n",
      "┃               ┃\n",
      "┣   ╋   ╋   ╋   ┫\n",
      "┃               ┃\n",
      "┣   ╋   ╋   ╋   ┫\n",
      "┃               ┃\n",
      "┗━━━┻━━━┻━━━┻━━━┛\n",
      "\n"
     ]
    }
   ],
   "source": [
    "laby = Maze(4,4)\n",
    "print(laby)\n",
    "laby = Maze(4,4,True)\n",
    "print(laby)"
   ]
  },
  {
   "cell_type": "markdown",
   "id": "c397a115",
   "metadata": {},
   "source": [
    "# 4) _Manipulation de labyrinthes_"
   ]
  },
  {
   "cell_type": "markdown",
   "id": "a2a0f001",
   "metadata": {},
   "source": [
    "### Ajout de la méthode ``add_wall`` : OK\n",
    "#### Test :"
   ]
  },
  {
   "cell_type": "code",
   "execution_count": 4,
   "id": "8bded86c",
   "metadata": {},
   "outputs": [
    {
     "name": "stdout",
     "output_type": "stream",
     "text": [
      "┏━━━┳━━━┳━━━┳━━━┳━━━┓\n",
      "┃                   ┃\n",
      "┣   ╋   ╋   ╋   ╋   ┫\n",
      "┃                   ┃\n",
      "┣   ╋   ╋   ╋   ╋   ┫\n",
      "┃                   ┃\n",
      "┣   ╋   ╋   ╋   ╋   ┫\n",
      "┃                   ┃\n",
      "┣   ╋   ╋   ╋   ╋   ┫\n",
      "┃                   ┃\n",
      "┗━━━┻━━━┻━━━┻━━━┻━━━┛\n",
      "\n",
      "┏━━━┳━━━┳━━━┳━━━┳━━━┓\n",
      "┃   ┃               ┃\n",
      "┣   ╋   ╋   ╋   ╋   ┫\n",
      "┃                   ┃\n",
      "┣   ╋   ╋   ╋   ╋   ┫\n",
      "┃                   ┃\n",
      "┣   ╋   ╋   ╋   ╋   ┫\n",
      "┃                   ┃\n",
      "┣   ╋   ╋   ╋   ╋   ┫\n",
      "┃                   ┃\n",
      "┗━━━┻━━━┻━━━┻━━━┻━━━┛\n",
      "\n"
     ]
    }
   ],
   "source": [
    "laby = Maze(5, 5, empty = True)\n",
    "print(laby)\n",
    "laby.add_wall((0,0), (0,1))\n",
    "print(laby)"
   ]
  },
  {
   "cell_type": "markdown",
   "id": "fb232117",
   "metadata": {},
   "source": [
    "\n",
    "__À faire__\n",
    "Écrire les méthodes d’instance suivantes :\n",
    "\n",
    "- remove_wall(c1, c2) qui supprime un mur entre deux cellules\n",
    "- get_walls() qui retourne la liste de tous les murs sous la forme d’une liste de tuple de cellules\n",
    "- fill() qui ajoute tous les murs possibles dans le labyrinthe\n",
    "- empty() qui supprime tous les murs du labyrinthe\n",
    "- get_contiguous_cells(c) qui retourne la liste des cellules contigües à c dans la grille (sans s’occuper des éventuels murs)\n",
    "- get_reachable_cells(c) qui retourne la liste des cellules accessibles depuis c"
   ]
  },
  {
   "cell_type": "markdown",
   "id": "0c8d1b75",
   "metadata": {},
   "source": [
    "### Ajout de la méthode d'instance ``remove_wall()`` OK\n",
    "#### Test :"
   ]
  },
  {
   "cell_type": "code",
   "execution_count": 5,
   "id": "14b59832",
   "metadata": {},
   "outputs": [
    {
     "name": "stdout",
     "output_type": "stream",
     "text": [
      "┏━━━┳━━━┳━━━┳━━━┳━━━┓\n",
      "┃   ┃   ┃   ┃   ┃   ┃\n",
      "┣━━━╋━━━╋━━━╋━━━╋━━━┫\n",
      "┃   ┃   ┃   ┃   ┃   ┃\n",
      "┣━━━╋━━━╋━━━╋━━━╋━━━┫\n",
      "┃   ┃   ┃   ┃   ┃   ┃\n",
      "┣━━━╋━━━╋━━━╋━━━╋━━━┫\n",
      "┃   ┃   ┃   ┃   ┃   ┃\n",
      "┣━━━╋━━━╋━━━╋━━━╋━━━┫\n",
      "┃   ┃   ┃   ┃   ┃   ┃\n",
      "┗━━━┻━━━┻━━━┻━━━┻━━━┛\n",
      "\n",
      "┏━━━┳━━━┳━━━┳━━━┳━━━┓\n",
      "┃       ┃   ┃   ┃   ┃\n",
      "┣━━━╋━━━╋━━━╋━━━╋━━━┫\n",
      "┃   ┃   ┃   ┃   ┃   ┃\n",
      "┣━━━╋━━━╋━━━╋━━━╋━━━┫\n",
      "┃   ┃   ┃   ┃   ┃   ┃\n",
      "┣━━━╋━━━╋━━━╋━━━╋━━━┫\n",
      "┃   ┃   ┃   ┃   ┃   ┃\n",
      "┣━━━╋━━━╋━━━╋━━━╋━━━┫\n",
      "┃   ┃   ┃   ┃   ┃   ┃\n",
      "┗━━━┻━━━┻━━━┻━━━┻━━━┛\n",
      "\n"
     ]
    }
   ],
   "source": [
    "laby = Maze(5, 5, empty = False)\n",
    "print(laby)\n",
    "laby.remove_wall((0, 0), (0, 1))\n",
    "print(laby)"
   ]
  },
  {
   "cell_type": "markdown",
   "id": "fac46252",
   "metadata": {},
   "source": [
    "### Ajout de la méthode d'instance ``get_walls()`` OK\n",
    "#### Test :"
   ]
  },
  {
   "cell_type": "code",
   "execution_count": 6,
   "id": "4b1872d8",
   "metadata": {},
   "outputs": [
    {
     "name": "stdout",
     "output_type": "stream",
     "text": [
      "┏━━━┳━━━┳━━━┳━━━┓\n",
      "┃   ┃   ┃   ┃   ┃\n",
      "┣━━━╋━━━╋━━━╋━━━┫\n",
      "┃   ┃   ┃   ┃   ┃\n",
      "┣━━━╋━━━╋━━━╋━━━┫\n",
      "┃   ┃   ┃   ┃   ┃\n",
      "┣━━━╋━━━╋━━━╋━━━┫\n",
      "┃   ┃   ┃   ┃   ┃\n",
      "┗━━━┻━━━┻━━━┻━━━┛\n",
      "\n",
      "[[(0, 0), (1, 0)], [(0, 0), (0, 1)], [(0, 1), (1, 1)], [(0, 1), (0, 2)], [(0, 2), (1, 2)], [(0, 2), (0, 1)], [(0, 2), (0, 3)], [(1, 0), (2, 0)], [(1, 0), (1, 1)], [(1, 1), (2, 1)], [(1, 1), (1, 2)], [(1, 2), (2, 2)], [(1, 2), (1, 1)], [(1, 2), (1, 3)], [(2, 0), (1, 0)], [(2, 0), (3, 0)], [(2, 0), (2, 1)], [(2, 1), (1, 1)], [(2, 1), (3, 1)], [(2, 1), (2, 2)], [(2, 2), (1, 2)], [(2, 2), (3, 2)], [(2, 2), (2, 1)], [(2, 2), (2, 3)]]\n",
      "┏━━━┳━━━┳━━━┳━━━┓\n",
      "┃   ┃           ┃\n",
      "┣   ╋   ╋━━━╋   ┫\n",
      "┃   ┃       ┃   ┃\n",
      "┣   ╋━━━╋   ╋   ┫\n",
      "┃           ┃   ┃\n",
      "┣   ╋━━━╋━━━╋   ┫\n",
      "┃           ┃   ┃\n",
      "┗━━━┻━━━┻━━━┻━━━┛\n",
      "\n",
      "[[(0, 0), (0, 1)], [(0, 2), (1, 2)], [(1, 0), (1, 1)], [(1, 1), (2, 1)], [(1, 2), (1, 3)], [(2, 1), (1, 1)], [(2, 1), (3, 1)], [(2, 2), (3, 2)], [(2, 2), (2, 3)]]\n"
     ]
    }
   ],
   "source": [
    "laby = Maze(4, 4, empty = False)\n",
    "print(laby)\n",
    "print(laby.get_walls())\n",
    "laby.neighbors = {\n",
    "    (0, 0): {(1, 0)},\n",
    "    (0, 1): {(0, 2), (1, 1)},\n",
    "    (0, 2): {(0, 1), (0, 3)},\n",
    "    (0, 3): {(0, 2), (1, 3)},\n",
    "    (1, 0): {(2, 0), (0, 0)},\n",
    "    (1, 1): {(0, 1), (1, 2)},\n",
    "    (1, 2): {(1, 1), (2, 2)},\n",
    "    (1, 3): {(2, 3), (0, 3)},\n",
    "    (2, 0): {(1, 0), (2, 1), (3, 0)},\n",
    "    (2, 1): {(2, 0), (2, 2)},\n",
    "    (2, 2): {(1, 2), (2, 1)},\n",
    "    (2, 3): {(3, 3), (1, 3)},\n",
    "    (3, 0): {(3, 1), (2, 0)},\n",
    "    (3, 1): {(3, 2), (3, 0)},\n",
    "    (3, 2): {(3, 1)},\n",
    "    (3, 3): {(2, 3)}\n",
    "}\n",
    "\n",
    "print(laby)\n",
    "print(laby.get_walls())\n"
   ]
  },
  {
   "cell_type": "code",
   "execution_count": 7,
   "id": "3b472df2",
   "metadata": {},
   "outputs": [
    {
     "name": "stdout",
     "output_type": "stream",
     "text": [
      "┏━━━┳━━━┳━━━┳━━━┓\n",
      "┃   ┃           ┃\n",
      "┣   ╋━━━╋   ╋   ┫\n",
      "┃               ┃\n",
      "┣   ╋   ╋   ╋   ┫\n",
      "┃               ┃\n",
      "┣   ╋   ╋   ╋   ┫\n",
      "┃               ┃\n",
      "┗━━━┻━━━┻━━━┻━━━┛\n",
      "\n",
      "[[(0, 0), (0, 1)], [(0, 1), (1, 1)]]\n"
     ]
    }
   ],
   "source": [
    "laby.empty()\n",
    "laby.add_wall((0, 0), (0, 1))\n",
    "laby.add_wall((0, 1), (1, 1))\n",
    "print(laby)\n",
    "print(laby.get_walls())"
   ]
  },
  {
   "cell_type": "markdown",
   "id": "50d2d5b6",
   "metadata": {},
   "source": [
    "### Ajout de la méthode d'instance ``fill()`` OK\n",
    "#### Test :"
   ]
  },
  {
   "cell_type": "code",
   "execution_count": 8,
   "id": "0bd5f983",
   "metadata": {},
   "outputs": [
    {
     "name": "stdout",
     "output_type": "stream",
     "text": [
      "┏━━━┳━━━┳━━━┳━━━┳━━━┓\n",
      "┃                   ┃\n",
      "┣   ╋   ╋   ╋   ╋   ┫\n",
      "┃                   ┃\n",
      "┣   ╋   ╋   ╋   ╋   ┫\n",
      "┃                   ┃\n",
      "┣   ╋   ╋   ╋   ╋   ┫\n",
      "┃                   ┃\n",
      "┣   ╋   ╋   ╋   ╋   ┫\n",
      "┃                   ┃\n",
      "┗━━━┻━━━┻━━━┻━━━┻━━━┛\n",
      "\n",
      "┏━━━┳━━━┳━━━┳━━━┳━━━┓\n",
      "┃   ┃   ┃   ┃   ┃   ┃\n",
      "┣━━━╋━━━╋━━━╋━━━╋━━━┫\n",
      "┃   ┃   ┃   ┃   ┃   ┃\n",
      "┣━━━╋━━━╋━━━╋━━━╋━━━┫\n",
      "┃   ┃   ┃   ┃   ┃   ┃\n",
      "┣━━━╋━━━╋━━━╋━━━╋━━━┫\n",
      "┃   ┃   ┃   ┃   ┃   ┃\n",
      "┣━━━╋━━━╋━━━╋━━━╋━━━┫\n",
      "┃   ┃   ┃   ┃   ┃   ┃\n",
      "┗━━━┻━━━┻━━━┻━━━┻━━━┛\n",
      "\n"
     ]
    }
   ],
   "source": [
    "laby = Maze(5, 5, empty = True)\n",
    "print(laby)\n",
    "laby.fill()\n",
    "print(laby)"
   ]
  },
  {
   "cell_type": "markdown",
   "id": "e2675ee5",
   "metadata": {},
   "source": [
    "### Ajout de la méthode d'instance ``empty()`` OK\n",
    "#### Test :"
   ]
  },
  {
   "cell_type": "code",
   "execution_count": 9,
   "id": "8b2d492a",
   "metadata": {},
   "outputs": [
    {
     "name": "stdout",
     "output_type": "stream",
     "text": [
      "┏━━━┳━━━┳━━━┳━━━┳━━━┓\n",
      "┃   ┃   ┃   ┃   ┃   ┃\n",
      "┣━━━╋━━━╋━━━╋━━━╋━━━┫\n",
      "┃   ┃   ┃   ┃   ┃   ┃\n",
      "┣━━━╋━━━╋━━━╋━━━╋━━━┫\n",
      "┃   ┃   ┃   ┃   ┃   ┃\n",
      "┣━━━╋━━━╋━━━╋━━━╋━━━┫\n",
      "┃   ┃   ┃   ┃   ┃   ┃\n",
      "┣━━━╋━━━╋━━━╋━━━╋━━━┫\n",
      "┃   ┃   ┃   ┃   ┃   ┃\n",
      "┗━━━┻━━━┻━━━┻━━━┻━━━┛\n",
      "\n",
      "┏━━━┳━━━┳━━━┳━━━┳━━━┓\n",
      "┃                   ┃\n",
      "┣   ╋   ╋   ╋   ╋   ┫\n",
      "┃                   ┃\n",
      "┣   ╋   ╋   ╋   ╋   ┫\n",
      "┃                   ┃\n",
      "┣   ╋   ╋   ╋   ╋   ┫\n",
      "┃                   ┃\n",
      "┣   ╋   ╋   ╋   ╋   ┫\n",
      "┃                   ┃\n",
      "┗━━━┻━━━┻━━━┻━━━┻━━━┛\n",
      "\n"
     ]
    }
   ],
   "source": [
    "laby = Maze(5, 5, empty = False)\n",
    "print(laby)\n",
    "laby.empty()\n",
    "print(laby)"
   ]
  },
  {
   "cell_type": "markdown",
   "id": "562fbd6a",
   "metadata": {},
   "source": [
    "### Ajout de la méthode d'instance ``get_contiguous_cells(c)`` OK\n",
    "#### Test :"
   ]
  },
  {
   "cell_type": "code",
   "execution_count": 10,
   "id": "40e1e74b",
   "metadata": {},
   "outputs": [
    {
     "name": "stdout",
     "output_type": "stream",
     "text": [
      "┏━━━┳━━━┳━━━┳━━━┳━━━┓\n",
      "┃   ┃               ┃\n",
      "┣   ╋━━━╋   ╋   ╋   ┫\n",
      "┃                   ┃\n",
      "┣   ╋   ╋   ╋   ╋   ┫\n",
      "┃                   ┃\n",
      "┣   ╋   ╋   ╋   ╋   ┫\n",
      "┃                   ┃\n",
      "┣   ╋   ╋   ╋   ╋   ┫\n",
      "┃                   ┃\n",
      "┗━━━┻━━━┻━━━┻━━━┻━━━┛\n",
      "\n",
      "[(3, 0), (4, 1)]\n"
     ]
    }
   ],
   "source": [
    "laby.empty()\n",
    "laby.add_wall((0, 0), (0, 1))\n",
    "laby.add_wall((0, 1), (1, 1))\n",
    "print(laby)\n",
    "print(laby.get_contiguous_cells((4,0)))"
   ]
  },
  {
   "cell_type": "markdown",
   "id": "cc9bb6da",
   "metadata": {},
   "source": [
    "### Ajout de la méthode d'instance ``get_reachable_cells(c)`` OK\n",
    "#### Test :"
   ]
  },
  {
   "cell_type": "code",
   "execution_count": 11,
   "id": "ad7df374",
   "metadata": {},
   "outputs": [
    {
     "name": "stdout",
     "output_type": "stream",
     "text": [
      "[(0, 2)]\n"
     ]
    }
   ],
   "source": [
    "print(laby.get_reachable_cells((0,1)))"
   ]
  },
  {
   "cell_type": "markdown",
   "id": "566047e7",
   "metadata": {},
   "source": [
    "# 5) _Génération_"
   ]
  },
  {
   "cell_type": "markdown",
   "id": "f82b9692",
   "metadata": {},
   "source": [
    "## 5.1) __Arbre Binaire__\n",
    "### Ajoute de la méthode de classe ``gen_btree(h,w)`` OK\n",
    "#### Test :"
   ]
  },
  {
   "cell_type": "code",
   "execution_count": 12,
   "id": "edafd120",
   "metadata": {},
   "outputs": [
    {
     "name": "stdout",
     "output_type": "stream",
     "text": [
      "┏━━━┳━━━┳━━━┳━━━┓\n",
      "┃   ┃       ┃   ┃\n",
      "┣   ╋━━━╋   ╋   ┫\n",
      "┃               ┃\n",
      "┣━━━╋━━━╋━━━╋   ┫\n",
      "┃       ┃       ┃\n",
      "┣━━━╋   ╋━━━╋   ┫\n",
      "┃               ┃\n",
      "┗━━━┻━━━┻━━━┻━━━┛\n",
      "\n",
      "┏━━━┳━━━┳━━━┳━━━┓\n",
      "┃   ┃   ┃   ┃   ┃\n",
      "┣   ╋   ╋   ╋   ┫\n",
      "┃               ┃\n",
      "┣━━━╋━━━╋━━━╋   ┫\n",
      "┃   ┃       ┃   ┃\n",
      "┣   ╋━━━╋   ╋   ┫\n",
      "┃               ┃\n",
      "┗━━━┻━━━┻━━━┻━━━┛\n",
      "\n",
      "┏━━━┳━━━┳━━━┳━━━┓\n",
      "┃           ┃   ┃\n",
      "┣━━━╋━━━╋   ╋   ┫\n",
      "┃   ┃   ┃   ┃   ┃\n",
      "┣   ╋   ╋   ╋   ┫\n",
      "┃   ┃           ┃\n",
      "┣   ╋━━━╋━━━╋   ┫\n",
      "┃               ┃\n",
      "┗━━━┻━━━┻━━━┻━━━┛\n",
      "\n"
     ]
    }
   ],
   "source": [
    "for i in range(3):\n",
    "    laby = Maze.gen_btree(4, 4)\n",
    "    print(laby)"
   ]
  },
  {
   "cell_type": "markdown",
   "id": "d1e09f25",
   "metadata": {},
   "source": [
    "## 5.2) __Sidewinder__\n",
    "### Ajoute de la méthode de classe ``gen_sidewinder(h,w)`` OK\n",
    "#### Test :"
   ]
  },
  {
   "cell_type": "code",
   "execution_count": 81,
   "id": "45f3a5bf",
   "metadata": {},
   "outputs": [
    {
     "name": "stdout",
     "output_type": "stream",
     "text": [
      "┏━━━┳━━━┳━━━┳━━━┓\n",
      "┃   ┃   ┃   ┃   ┃\n",
      "┣   ╋   ╋   ╋   ┫\n",
      "┃   ┃           ┃\n",
      "┣   ╋━━━╋   ╋━━━┫\n",
      "┃   ┃       ┃   ┃\n",
      "┣   ╋   ╋━━━╋   ┫\n",
      "┃               ┃\n",
      "┗━━━┻━━━┻━━━┻━━━┛\n",
      "\n"
     ]
    }
   ],
   "source": [
    "laby = Maze.gen_sidewinder(4, 4)\n",
    "print(laby)"
   ]
  },
  {
   "cell_type": "markdown",
   "id": "b3a3362e",
   "metadata": {},
   "source": [
    "## 5.2) __Fusion de chemins__\n",
    "### Ajoute de la méthode de classe ``gen_fusion(h,w)``\n",
    "#### Test :"
   ]
  },
  {
   "cell_type": "code",
   "execution_count": null,
   "id": "2bd1123b",
   "metadata": {},
   "outputs": [],
   "source": []
  }
 ],
 "metadata": {
  "kernelspec": {
   "display_name": "Python 3 (ipykernel)",
   "language": "python",
   "name": "python3"
  },
  "language_info": {
   "codemirror_mode": {
    "name": "ipython",
    "version": 3
   },
   "file_extension": ".py",
   "mimetype": "text/x-python",
   "name": "python",
   "nbconvert_exporter": "python",
   "pygments_lexer": "ipython3",
   "version": "3.8.10"
  }
 },
 "nbformat": 4,
 "nbformat_minor": 5
}
